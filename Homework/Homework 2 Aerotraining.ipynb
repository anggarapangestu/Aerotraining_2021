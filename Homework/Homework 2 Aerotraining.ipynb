{
 "cells": [
  {
   "cell_type": "markdown",
   "id": "0cee7d28",
   "metadata": {},
   "source": [
    "# Homework 2\n",
    "By Made Yogga Anggara Pangestu - 13618024"
   ]
  },
  {
   "cell_type": "code",
   "execution_count": 12,
   "id": "e4e08d88",
   "metadata": {},
   "outputs": [],
   "source": [
    "class IsenProp:\n",
    "    def __init__(case, mach, heat_ratio, gas_constant, static_pressure, static_temperature):\n",
    "        case.M = mach\n",
    "        case.gamma = heat_ratio\n",
    "        case.P = static_pressure\n",
    "        case.T = static_temperature\n",
    "        case.R = gas_constant\n",
    "        case.rho = case.P/(case.T*case.R)\n",
    "        \n",
    "# Method yang melakukan operasi perhitungan properti total dari aliran\n",
    "    def total_properties(case):\n",
    "        case.T_t = case.T * (1 + (case.gamma-1)/2*case.M**2)\n",
    "        case.P_t = case.P * (1 + (case.gamma-1)/2*case.M**2)**(case.gamma/(case.gamma-1))\n",
    "        case.rho_t = case.P_t/(case.T_t*case.R)\n",
    "\n",
    "# Method untuk menampilkan properti statik dari aliran\n",
    "    def summary_static(case):\n",
    "        print(\"Data aliran statik:\")\n",
    "        print(\" > Tekanan: {} Pa\".format(round(case.P)))\n",
    "        print(\" > Temperatur: {} K\".format(round(case.T)))\n",
    "        print(\" > Densitas: {} kg/m^3\\n\".format(round(case.rho,3)))\n",
    "\n",
    "# Method untuk menampilkan properti total dari aliran\n",
    "    def summary_total(case):\n",
    "        # Masalah terjadi kalau method total_properties tidak dijalankan terlebih dahulu\n",
    "        # Oleh karena itu sebagai preventif akan dijalankan method total_properties sebelum menampilkan\n",
    "        case.total_properties()\n",
    "        print(\"Data aliran total:\")\n",
    "        print(\" > Tekanan: {} Pa\".format(round(case.P_t)))\n",
    "        print(\" > Temperatur: {} K\".format(round(case.T_t)))\n",
    "        print(\" > Densitas: {} kg/m^3\".format(round(case.rho_t,3)))"
   ]
  },
  {
   "cell_type": "markdown",
   "id": "02f7ca0c",
   "metadata": {},
   "source": [
    "### Perhitungan Properti Total pada Aliran (Hubungan Isentropik)\n",
    "1. Kalkulator ini bertujuan untuk menghitung properti total dari aliran  yang didefinisikan pada class `IsenProp`.\n",
    "2. _Class_ ini mendefinisikan objek yang berupa \"suatu aliran\", dimana suatu aliran memiliki \"properti aliran\" yang akan menjadi properti pada objek tersebut.\n",
    "3. Kalkulator ini membutuhkan data properti aliran berupa `mach`, `heat_ratio`, `gas_constant`, `static_pressure`, `static_temperature` yang akan menjadi data input properti pada class `IsenProp`.\n",
    "4. Pada class ini, istilah `self` digantikan dengan `case` sebagai representasi kondisi dari aliran (_just for convenience_)\n",
    "5. Class ini memiliki beberapa properti diantaranya `M`, `gamma`, `P`, `T`, `R`, `rho` sebagai properti utama dan `P_t`, `T_t`, `rho_t` sebagai properti yang define setelah perhitungan\n",
    "6. Pada class ini terdapat tiga method diantaranya `total_properties`, `summary_static`, dan `summary_total`.\n",
    "7. Method `total_properties` melakukan operasi perhitungan properti total dari aliran dengan data perhitungan disimpan menjadi properti tambahan objek.\n",
    "8. Method `summary_static` merupakan \"prosedur\" yang berfungsi untuk menampilkan data properti statik aliran.\n",
    "9. Method `summary_total` merupakan \"prosedur\" yang berfungsi untuk menampilkan data properti total aliran. Karena method ini menggunakan properti objek hasil perhitungan method `total_properties`, method tersebut harus dijalankan terlebih dahulu. Oleh karena itu method `total_properties` dipanggil di dalam method `summary_total`."
   ]
  },
  {
   "cell_type": "code",
   "execution_count": 11,
   "id": "4ee29054",
   "metadata": {},
   "outputs": [
    {
     "name": "stdout",
     "output_type": "stream",
     "text": [
      "Konstanta gas dari aliran adalah: 287 kJ/kg/K\n",
      "\n",
      "371691.85101180297\n",
      "Data aliran statik:\n",
      " > Tekanan: 101250 Pa\n",
      " > Temperatur: 283 K\n",
      " > Densitas: 1.247 kg/m^3\n",
      "\n",
      "Data aliran total:\n",
      " > Tekanan: 371692 Pa\n",
      " > Temperatur: 410 K\n",
      " > Densitas: 3.156 kg/m^3\n"
     ]
    }
   ],
   "source": [
    "mach = 1.5               # Non dimensional\n",
    "heat_ratio = 1.4         # Non dimensional\n",
    "gas_constant = 287       # In kJ/kg/K\n",
    "static_temperature = 283 # In Kelvin\n",
    "static_pressure = 101250 # In Pascal\n",
    "\n",
    "flow_1 = IsenProp(mach, heat_ratio, gas_constant, static_pressure, static_temperature)\n",
    "## Call one of the flow_1 properties\n",
    "print(\"Konstanta gas dari aliran adalah: {} kJ/kg/K\\n\".format(flow_1.R))\n",
    "\n",
    "## Perhitungan properti total\n",
    "# Check salah satu properti total sebelum dibentuk\n",
    "# print(flow_1.P_t) # Uncomment to check\n",
    "# Check salah satu properti total setelah dibentuk\n",
    "flow_1.total_properties()\n",
    "print(flow_1.P_t)\n",
    "\n",
    "## Summary Data\n",
    "flow_1.summary_static()\n",
    "flow_1.summary_total()"
   ]
  },
  {
   "cell_type": "markdown",
   "id": "56a7f94d",
   "metadata": {},
   "source": [
    "### Description\n",
    "* Pada display input akan dibuat beberapa variabel untuk menyimpan data properti aliran. \n",
    "* Dalam contoh ini digunakan `flow_1` sebagai objek dari _class_.\n",
    "* Untuk mendefinisikan objek `flow_1` pada kelas `IsenProp` dituliskan sebagai `IsenProp(Arg)` dengan _argument_ yang berurutan sesuai dengan code pada class yang telah dibentuk.\n",
    "* Selanjutnya akan dilakukan beberapa percobaan mengenai objek `flow_1`\n",
    "    * Pertama dilakukan pemanggilan salah satu properti yaitu konstanta gas dengan variabel `R` yang dipanggil dengan `flow_1.R`\n",
    "    * Kedua akan dilakukan eksekusi dari method kalkulator Total Property, yaitu:\n",
    "        * Pertama `total_properties` akan menghitung total properti aliran yang di-_assign_ sebagai properti baru pada objek `flow_1`. Dapat dicek dengan memanggil properti pada method ini sebelum dan sesudah method dijalankan. Dihasilkan jika method belum dijalankan maka akan terjadi error yang menyatakan tidak ada properti yang dimaksud.\n",
    "        * Kedua `summary_static` yang secara prosedural akan menampilkan summary data properti statik aliran.\n",
    "        * Ketiga `summary_total` serupa dengan `summary_static` yang menampilkan data properti total aliran."
   ]
  }
 ],
 "metadata": {
  "kernelspec": {
   "display_name": "Python 3",
   "language": "python",
   "name": "python3"
  },
  "language_info": {
   "codemirror_mode": {
    "name": "ipython",
    "version": 3
   },
   "file_extension": ".py",
   "mimetype": "text/x-python",
   "name": "python",
   "nbconvert_exporter": "python",
   "pygments_lexer": "ipython3",
   "version": "3.8.8"
  }
 },
 "nbformat": 4,
 "nbformat_minor": 5
}
