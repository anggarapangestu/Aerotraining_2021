{
 "cells": [
  {
   "cell_type": "markdown",
   "id": "fd667d40",
   "metadata": {},
   "source": [
    "# Homework 1\n",
    "by Made Yogga Anggara Pangestu - 13618024"
   ]
  },
  {
   "cell_type": "code",
   "execution_count": null,
   "id": "cc0e3132",
   "metadata": {},
   "outputs": [],
   "source": [
    "for i in range(1,101):\n",
    "    if i%3 == 0 and i%5 == 0:\n",
    "        print(\"FizzBuzz\")\n",
    "    elif i%3 == 0:\n",
    "        print(\"Fizz\")\n",
    "    elif i%5 ==0:\n",
    "        print(\"Buzz\")\n",
    "    else:\n",
    "        print(i)"
   ]
  },
  {
   "cell_type": "markdown",
   "id": "73a4db2d",
   "metadata": {},
   "source": [
    "# Penjelasan Soal 1\n",
    "1. Soal ini sudah menentukan batas iterasinya maka lebih effisien menggunakan `for` loop.\n",
    "2. Test kondisional dimulai dari kondisi yang paling tidak mungkin terjadi yaitu kondisi kelipatan 3 dan 5, sehingga kondisi ini menjadi parameter pertama pada `if`.\n",
    "3. Jika tidak memenuhi kondisi pertama, angka yang bersangkutan akan di cek sebagai kelipatan 3 atau 5. Pada tes kedua ini urutan tidak dipermasalahkan mau yang kelipatan 3 atau 5 dulu.\n",
    "4. Kondisional defaultnya jika tidak memenuhi semua kondisi di atas masuk pada `else` yaitu `print(i)`\n"
   ]
  },
  {
   "cell_type": "code",
   "execution_count": null,
   "id": "9cf5658f",
   "metadata": {},
   "outputs": [],
   "source": [
    "s = input(\"Input: \")\n",
    "iter_num = len(s)//2\n",
    "pal_check = True\n",
    "for i in range(iter_num):\n",
    "    if s[i] != s[-(1+i)]:\n",
    "        pal_check = False\n",
    "        break\n",
    "if pal_check:\n",
    "    print(\"Output: {}\".format(\"Yes\"))\n",
    "else:\n",
    "    print(\"Output: {}\".format(\"No\"))"
   ]
  },
  {
   "cell_type": "markdown",
   "id": "b16930ca",
   "metadata": {},
   "source": [
    "# Penjelasan Soal 2\n",
    "1. Palindrom merupakan karakter yang simetri pada karakternya tengahnya, untuk itu perlu dites setiap karakter dari indeks awal hingga tengah apakah sama dengan indeks akhir hingga tengah secara berpasangan.\n",
    "2. Variabel tes `s` harus berupa array untuk dapat dilakukan indexing, kebetulan input pada python bertipe `string` yang  sudah merupakan `array`, sehingga tidak diperlukan aksi tambahan lagi.\n",
    "3. Iterasi cukup dilakukan pada setengah panjang karakter variabel input. Panjang karakter `s` dihitung dengan fungsi `len()`. Untuk karakter berjumlah ganjil diperlukan `(N-1)/2` sehingga jumlah iterasi dapat dihitung dengan floor division pada jumlah karakter `s`. Jumlah iterasi dimasukkan pada variable `iter_num`.\n",
    "4. Akan dilakukan tes secara berurutan mulai dari indeks awal hingga indeks tengah menggunakan `for` loop. Tes dimulai dari indeks 0 dengan mengecek apakah karakter indeks 0 sama dengan indeks -1, lanjut ke indeks 1 dengan indeks -2, hingga indeks akhir loop. Sehingga test dilakukan untuk indeks `i` dengan indeks `-(1+i)`.\n",
    "5. Sebelum melakukan tes akan diasumsikan bahwa `s` merupakan palindrom dengan membuat variable `pal_check` sebagai `True`. Selama tes berlangsung, jika ada tes yang gagal maka `s` sudah dipastikan bukan palindrom, untuk itu hentikan loop dengan `break` \n",
    "6. Tampilkan output sebagai \"Yes\" jika `s` merupakan palindrom dan sebaliknya \"No\", proses ini menggunakan conditional `if` dengan argumen menggunakan variable `pal_check` yang merupakan hasil tes palindrom `s`.\n"
   ]
  }
 ],
 "metadata": {
  "kernelspec": {
   "display_name": "Python 3",
   "language": "python",
   "name": "python3"
  },
  "language_info": {
   "codemirror_mode": {
    "name": "ipython",
    "version": 3
   },
   "file_extension": ".py",
   "mimetype": "text/x-python",
   "name": "python",
   "nbconvert_exporter": "python",
   "pygments_lexer": "ipython3",
   "version": "3.8.8"
  }
 },
 "nbformat": 4,
 "nbformat_minor": 5
}
